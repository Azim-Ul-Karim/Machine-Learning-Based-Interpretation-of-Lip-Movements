{
  "nbformat": 4,
  "nbformat_minor": 0,
  "metadata": {
    "colab": {
      "provenance": [],
      "gpuType": "T4"
    },
    "kernelspec": {
      "name": "python3",
      "display_name": "Python 3"
    },
    "language_info": {
      "name": "python"
    },
    "accelerator": "GPU"
  },
  "cells": [
    {
      "cell_type": "markdown",
      "source": [
        "## Install Required Packages"
      ],
      "metadata": {
        "id": "FS4APg6KxdbH"
      }
    },
    {
      "cell_type": "code",
      "source": [
        "!pip install opencv-python matplotlib imageio gdown tensorflow"
      ],
      "metadata": {
        "id": "wAATw_iflfxO"
      },
      "execution_count": null,
      "outputs": []
    },
    {
      "cell_type": "markdown",
      "source": [
        "## Import Necessary Libraries"
      ],
      "metadata": {
        "id": "P1ngyjodxq-H"
      }
    },
    {
      "cell_type": "code",
      "source": [
        "import os\n",
        "import cv2\n",
        "import tensorflow as tf\n",
        "import numpy as np\n",
        "from typing import List\n",
        "from matplotlib import pyplot as plt\n",
        "import imageio"
      ],
      "metadata": {
        "id": "4Y68Zx_ix3FC"
      },
      "execution_count": 2,
      "outputs": []
    },
    {
      "cell_type": "markdown",
      "source": [
        "## Download and Unzip Dataset"
      ],
      "metadata": {
        "id": "PdBVdgd_ymXp"
      }
    },
    {
      "cell_type": "code",
      "source": [
        "!gdown --id 1YlvpDLix3S-U8fd-gqRwPcWXAXm8JwjL -O GRID_dataset.zip\n",
        "!unzip -q GRID_dataset.zip"
      ],
      "metadata": {
        "id": "iw2jCOGoloi3"
      },
      "execution_count": null,
      "outputs": []
    },
    {
      "cell_type": "markdown",
      "source": [
        "## Define Vocabulary and Character Mapping Layer"
      ],
      "metadata": {
        "id": "TaOw2Mn6yu9Y"
      }
    },
    {
      "cell_type": "code",
      "source": [
        "# Define the list of all valid characters in the dataset\n",
        "vocab = [x for x in \"abcdefghijklmnopqrstuvwxyz'?!123456789 \"]\n",
        "\n",
        "# Map characters to numbers and vice versa\n",
        "char_to_num = tf.keras.layers.StringLookup(\n",
        "    vocabulary=vocab,\n",
        "    oov_token=\"\"\n",
        ")\n",
        "num_to_char = tf.keras.layers.StringLookup(\n",
        "    vocabulary=char_to_num.get_vocabulary(),\n",
        "    oov_token=\"\",\n",
        "    invert=True\n",
        ")\n",
        "\n",
        "# Show vocabulary info\n",
        "print(\n",
        "    f\"The vocabulary is: {char_to_num.get_vocabulary()}\\n\"\n",
        "    f\"(Size = {char_to_num.vocabulary_size()})\"\n",
        ")"
      ],
      "metadata": {
        "id": "ZlgsnVIhlxzX"
      },
      "execution_count": null,
      "outputs": []
    },
    {
      "cell_type": "markdown",
      "source": [
        "## Define Video Loading Function"
      ],
      "metadata": {
        "id": "qtXkEc5X1xUX"
      }
    },
    {
      "cell_type": "code",
      "source": [
        "def load_video(path: str) -> tf.Tensor:\n",
        "\n",
        "    # Open video file\n",
        "    cap = cv2.VideoCapture(path)\n",
        "    frames = []\n",
        "\n",
        "    # Loop through all video frames\n",
        "    for _ in range(int(cap.get(cv2.CAP_PROP_FRAME_COUNT))):\n",
        "        ret, frame = cap.read()\n",
        "        if not ret or frame is None:\n",
        "            print(f\"Skipping invalid frame in {path}\")\n",
        "            continue\n",
        "\n",
        "        try:\n",
        "\n",
        "            # Ensure frame is valid RGB\n",
        "            if frame.ndim != 3 or frame.shape[2] != 3:\n",
        "                raise ValueError(f\"Expected RGB frame but got shape {frame.shape}\")\n",
        "            frame = tf.convert_to_tensor(frame, dtype=tf.uint8)\n",
        "\n",
        "            # Check for minimum dimensions before cropping\n",
        "            if frame.shape[0] < 236 or frame.shape[1] < 220:\n",
        "                raise ValueError(f\"Invalid frame shape: {frame.shape}\")\n",
        "\n",
        "            # Convert to grayscale and crop region of interest (RoI) (46x140)\n",
        "            frame = tf.image.rgb_to_grayscale(frame)\n",
        "            frame = frame[190:236, 80:220, :]\n",
        "\n",
        "            # Check final frame shape\n",
        "            if frame.shape != (46, 140, 1):\n",
        "                raise ValueError(f\"Frame shape mismatch after crop: {frame.shape}\")\n",
        "\n",
        "            frames.append(frame)\n",
        "\n",
        "        except Exception as e:\n",
        "            print(f\"Frame error in {path}: {e}\")\n",
        "            continue\n",
        "\n",
        "    cap.release()\n",
        "\n",
        "    # Return zero tensor if no valid frames found\n",
        "    if not frames:\n",
        "        print(f\"Warning: No frames in {path}\")\n",
        "        return tf.zeros((75, 46, 140, 1), dtype=tf.float32)\n",
        "\n",
        "    # Pad or trim to exactly 75 frames\n",
        "    if len(frames) < 75:\n",
        "        frames += [frames[-1]] * (75 - len(frames))\n",
        "    else:\n",
        "        frames = frames[:75]\n",
        "\n",
        "    # Normalize video frames\n",
        "    frames = tf.stack(frames)\n",
        "    frames = tf.cast(frames, tf.float32)\n",
        "    mean = tf.reduce_mean(frames)\n",
        "    std = tf.math.reduce_std(frames)\n",
        "    return (frames - mean) / (std + 1e-6)"
      ],
      "metadata": {
        "id": "DuIOVFOTzyMo"
      },
      "execution_count": 5,
      "outputs": []
    },
    {
      "cell_type": "markdown",
      "source": [
        "## Define Alignment Loading Function"
      ],
      "metadata": {
        "id": "haQdkbJq0B2g"
      }
    },
    {
      "cell_type": "code",
      "source": [
        "def load_alignments(path: str) -> tf.Tensor:\n",
        "\n",
        "    # Read alignment file\n",
        "    with open(path, 'r') as f:\n",
        "        lines = f.readlines()\n",
        "\n",
        "    # Extract non-silence tokens\n",
        "    tokens = \"\"\n",
        "    for line in lines:\n",
        "        parts = line.strip().split()\n",
        "        if len(parts) >= 3 and parts[2] != \"sil\":\n",
        "            tokens += \" \" + parts[2]\n",
        "    tokens = tokens.strip()\n",
        "\n",
        "    # Return empty tensor if no tokens\n",
        "    if not tokens:\n",
        "        return tf.constant([], dtype=tf.int64)\n",
        "\n",
        "    # Convert characters to numeric sequence\n",
        "    chars = tf.reshape(tf.strings.unicode_split(tokens, input_encoding=\"UTF-8\"), (-1,))\n",
        "    return char_to_num(chars)"
      ],
      "metadata": {
        "id": "42Enln2Y0Fqn"
      },
      "execution_count": 6,
      "outputs": []
    },
    {
      "cell_type": "markdown",
      "source": [
        "## Wrap Data Loading for TensorFlow"
      ],
      "metadata": {
        "id": "SEBbsBJZ2ZCU"
      }
    },
    {
      "cell_type": "code",
      "source": [
        "def load_data(path: tf.Tensor):\n",
        "\n",
        "    # Decode file path from tensor to string\n",
        "    path = path.numpy().decode('utf-8')\n",
        "    file_name = os.path.splitext(os.path.basename(path))[0]\n",
        "\n",
        "    # Construct video and alignment paths\n",
        "    video_path = os.path.join('data', 's1', f'{file_name}.mpg')\n",
        "    alignment_path = os.path.join('data', 'alignments', 's1', f'{file_name}.align')\n",
        "\n",
        "    # Load video frames and label sequence\n",
        "    frames = load_video(video_path)\n",
        "    alignments = load_alignments(alignment_path)\n",
        "    return frames, alignments\n",
        "\n",
        "# TensorFlow wrapper to call Python function inside data pipeline\n",
        "def mappable_function(path):\n",
        "    result = tf.py_function(load_data, [path], (tf.float32, tf.int64))\n",
        "    return result"
      ],
      "metadata": {
        "id": "yy7SNsb62a_U"
      },
      "execution_count": 7,
      "outputs": []
    },
    {
      "cell_type": "markdown",
      "source": [
        "## Build the Data Pipeline"
      ],
      "metadata": {
        "id": "r0lU4bPf5c5S"
      }
    },
    {
      "cell_type": "code",
      "source": [
        "# Create dataset of video files and shuffle\n",
        "data = tf.data.Dataset.list_files('./data/s1/*.mpg')\n",
        "data = data.shuffle(500, reshuffle_each_iteration=False)\n",
        "\n",
        "# Map video and label loader function\n",
        "data = data.map(mappable_function)\n",
        "\n",
        "# Batch and pad inputs to 75×46×140×1 shape, and prefetch for performance\n",
        "data = data.padded_batch(batch_size=2, padded_shapes=([75, 46, 140, 1], [40]))\n",
        "data = data.prefetch(tf.data.AUTOTUNE)\n",
        "\n",
        "# Split into training and test sets\n",
        "train = data.take(450)\n",
        "test = data.skip(450)"
      ],
      "metadata": {
        "id": "6ZQNXqYQ5eEs"
      },
      "execution_count": 8,
      "outputs": []
    },
    {
      "cell_type": "markdown",
      "source": [
        "## Visualize Sample Video and Alignment"
      ],
      "metadata": {
        "id": "b34eoTj2v3Zj"
      }
    },
    {
      "cell_type": "code",
      "source": [
        "# Load one batch\n",
        "frames, alignments = data.as_numpy_iterator().next()\n",
        "sample = data.as_numpy_iterator()\n",
        "val = sample.next()\n",
        "\n",
        "# Normalize video to 0-255 and save as GIF\n",
        "video = val[0][0]\n",
        "video = np.squeeze(video, axis=-1)\n",
        "vmin, vmax = video.min(), video.max()\n",
        "video_norm = (video - vmin) / (vmax - vmin)\n",
        "video_uint8 = (video_norm * 255).astype(np.uint8)\n",
        "\n",
        "# Save video as animated GIF\n",
        "imageio.mimsave('./Animation.gif', list(video_uint8), fps=10)\n",
        "\n",
        "# Show one specific frame\n",
        "plt.imshow(video_uint8[30])\n",
        "\n",
        "# Decode and print alignment for first example\n",
        "decoded = tf.strings.reduce_join([num_to_char(word) for word in val[1][0]])\n",
        "print(decoded.numpy().decode('utf-8'))"
      ],
      "metadata": {
        "id": "HiFQPWDmv3yF",
        "colab": {
          "base_uri": "https://localhost:8080/",
          "height": 244
        },
        "outputId": "c6888623-b6bb-430d-b5e7-856b001d03a6"
      },
      "execution_count": 9,
      "outputs": [
        {
          "output_type": "stream",
          "name": "stdout",
          "text": [
            "lay blue with l zero please\n"
          ]
        },
        {
          "output_type": "display_data",
          "data": {
            "text/plain": [
              "<Figure size 640x480 with 1 Axes>"
            ],
            "image/png": "[encoded data removed]"
          },
          "metadata": {}
        }
      ]
    },
    {
      "cell_type": "markdown",
      "source": [
        "# Design Deep Neural Network (3D-CNN + BiLSTM Model)"
      ],
      "metadata": {
        "id": "_Chxl-f76qCD"
      }
    },
    {
      "cell_type": "code",
      "source": [
        "# Import essential model-building layers\n",
        "from tensorflow.keras.models import Sequential\n",
        "from tensorflow.keras.layers import Conv3D, Activation, MaxPool3D, TimeDistributed, Flatten, Bidirectional, LSTM, Dropout, Dense\n",
        "from tensorflow.keras.optimizers import Adam\n",
        "\n",
        "# Define model architecture\n",
        "model = Sequential()\n",
        "\n",
        "# Add first 3D convolution layer with 128 filters\n",
        "model.add(Conv3D(128, 3, input_shape=(75, 46, 140, 1), padding='same'))\n",
        "model.add(Activation('relu'))\n",
        "model.add(MaxPool3D((1, 2, 2)))  # Reduce width and height by half\n",
        "\n",
        "# Add second 3D convolution layer with 256 filters\n",
        "model.add(Conv3D(256, 3, padding='same'))\n",
        "model.add(Activation('relu'))\n",
        "model.add(MaxPool3D((1, 2, 2)))\n",
        "\n",
        "# Add third 3D convolution layer with 75 filters\n",
        "model.add(Conv3D(75, 3, padding='same'))\n",
        "model.add(Activation('relu'))\n",
        "model.add(MaxPool3D((1, 2, 2)))\n",
        "\n",
        "# Flatten the spatial dimensions using TimeDistributed wrapper\n",
        "model.add(TimeDistributed(Flatten()))\n",
        "\n",
        "# Add first bidirectional LSTM to learn temporal dependencies\n",
        "model.add(Bidirectional(LSTM(128, kernel_initializer='Orthogonal', return_sequences=True)))\n",
        "model.add(Dropout(0.5))  # Add dropout for regularization\n",
        "\n",
        "# Add second bidirectional LSTM\n",
        "model.add(Bidirectional(LSTM(128, kernel_initializer='Orthogonal', return_sequences=True)))\n",
        "model.add(Dropout(0.5))\n",
        "\n",
        "# Output layer with softmax over character vocabulary\n",
        "model.add(Dense(char_to_num.vocabulary_size() + 1, kernel_initializer='he_normal', activation='softmax'))"
      ],
      "metadata": {
        "id": "cHT2zvKXl8-S"
      },
      "execution_count": null,
      "outputs": []
    },
    {
      "cell_type": "code",
      "source": [
        "# Display model architecture summary\n",
        "model.summary()"
      ],
      "metadata": {
        "id": "SRiHqWZk7GZb",
        "colab": {
          "base_uri": "https://localhost:8080/",
          "height": 721
        },
        "outputId": "366b1f3c-8a06-4d7d-9d24-6febbad30f08"
      },
      "execution_count": 11,
      "outputs": [
        {
          "output_type": "display_data",
          "data": {
            "text/plain": [
              "\u001b[1mModel: \"sequential\"\u001b[0m\n"
            ],
            "text/html": [
              "<pre style=\"white-space:pre;overflow-x:auto;line-height:normal;font-family:Menlo,'DejaVu Sans Mono',consolas,'Courier New',monospace\"><span style=\"font-weight: bold\">Model: \"sequential\"</span>\n",
              "</pre>\n"
            ]
          },
          "metadata": {}
        },
        {
          "output_type": "display_data",
          "data": {
            "text/plain": [
              "┏━━━━━━━━━━━━━━━━━━━━━━━━━━━━━━━━━┳━━━━━━━━━━━━━━━━━━━━━━━━┳━━━━━━━━━━━━━━━┓\n",
              "┃\u001b[1m \u001b[0m\u001b[1mLayer (type)                   \u001b[0m\u001b[1m \u001b[0m┃\u001b[1m \u001b[0m\u001b[1mOutput Shape          \u001b[0m\u001b[1m \u001b[0m┃\u001b[1m \u001b[0m\u001b[1m      Param #\u001b[0m\u001b[1m \u001b[0m┃\n",
              "┡━━━━━━━━━━━━━━━━━━━━━━━━━━━━━━━━━╇━━━━━━━━━━━━━━━━━━━━━━━━╇━━━━━━━━━━━━━━━┩\n",
              "│ conv3d (\u001b[38;5;33mConv3D\u001b[0m)                 │ (\u001b[38;5;45mNone\u001b[0m, \u001b[38;5;34m75\u001b[0m, \u001b[38;5;34m46\u001b[0m, \u001b[38;5;34m140\u001b[0m,    │         \u001b[38;5;34m3,584\u001b[0m │\n",
              "│                                 │ \u001b[38;5;34m128\u001b[0m)                   │               │\n",
              "├─────────────────────────────────┼────────────────────────┼───────────────┤\n",
              "│ activation (\u001b[38;5;33mActivation\u001b[0m)         │ (\u001b[38;5;45mNone\u001b[0m, \u001b[38;5;34m75\u001b[0m, \u001b[38;5;34m46\u001b[0m, \u001b[38;5;34m140\u001b[0m,    │             \u001b[38;5;34m0\u001b[0m │\n",
              "│                                 │ \u001b[38;5;34m128\u001b[0m)                   │               │\n",
              "├─────────────────────────────────┼────────────────────────┼───────────────┤\n",
              "│ max_pooling3d (\u001b[38;5;33mMaxPooling3D\u001b[0m)    │ (\u001b[38;5;45mNone\u001b[0m, \u001b[38;5;34m75\u001b[0m, \u001b[38;5;34m23\u001b[0m, \u001b[38;5;34m70\u001b[0m,     │             \u001b[38;5;34m0\u001b[0m │\n",
              "│                                 │ \u001b[38;5;34m128\u001b[0m)                   │               │\n",
              "├─────────────────────────────────┼────────────────────────┼───────────────┤\n",
              "│ conv3d_1 (\u001b[38;5;33mConv3D\u001b[0m)               │ (\u001b[38;5;45mNone\u001b[0m, \u001b[38;5;34m75\u001b[0m, \u001b[38;5;34m23\u001b[0m, \u001b[38;5;34m70\u001b[0m,     │       \u001b[38;5;34m884,992\u001b[0m │\n",
              "│                                 │ \u001b[38;5;34m256\u001b[0m)                   │               │\n",
              "├─────────────────────────────────┼────────────────────────┼───────────────┤\n",
              "│ activation_1 (\u001b[38;5;33mActivation\u001b[0m)       │ (\u001b[38;5;45mNone\u001b[0m, \u001b[38;5;34m75\u001b[0m, \u001b[38;5;34m23\u001b[0m, \u001b[38;5;34m70\u001b[0m,     │             \u001b[38;5;34m0\u001b[0m │\n",
              "│                                 │ \u001b[38;5;34m256\u001b[0m)                   │               │\n",
              "├─────────────────────────────────┼────────────────────────┼───────────────┤\n",
              "│ max_pooling3d_1 (\u001b[38;5;33mMaxPooling3D\u001b[0m)  │ (\u001b[38;5;45mNone\u001b[0m, \u001b[38;5;34m75\u001b[0m, \u001b[38;5;34m11\u001b[0m, \u001b[38;5;34m35\u001b[0m,     │             \u001b[38;5;34m0\u001b[0m │\n",
              "│                                 │ \u001b[38;5;34m256\u001b[0m)                   │               │\n",
              "├─────────────────────────────────┼────────────────────────┼───────────────┤\n",
              "│ conv3d_2 (\u001b[38;5;33mConv3D\u001b[0m)               │ (\u001b[38;5;45mNone\u001b[0m, \u001b[38;5;34m75\u001b[0m, \u001b[38;5;34m11\u001b[0m, \u001b[38;5;34m35\u001b[0m, \u001b[38;5;34m75\u001b[0m) │       \u001b[38;5;34m518,475\u001b[0m │\n",
              "├─────────────────────────────────┼────────────────────────┼───────────────┤\n",
              "│ activation_2 (\u001b[38;5;33mActivation\u001b[0m)       │ (\u001b[38;5;45mNone\u001b[0m, \u001b[38;5;34m75\u001b[0m, \u001b[38;5;34m11\u001b[0m, \u001b[38;5;34m35\u001b[0m, \u001b[38;5;34m75\u001b[0m) │             \u001b[38;5;34m0\u001b[0m │\n",
              "├─────────────────────────────────┼────────────────────────┼───────────────┤\n",
              "│ max_pooling3d_2 (\u001b[38;5;33mMaxPooling3D\u001b[0m)  │ (\u001b[38;5;45mNone\u001b[0m, \u001b[38;5;34m75\u001b[0m, \u001b[38;5;34m5\u001b[0m, \u001b[38;5;34m17\u001b[0m, \u001b[38;5;34m75\u001b[0m)  │             \u001b[38;5;34m0\u001b[0m │\n",
              "├─────────────────────────────────┼────────────────────────┼───────────────┤\n",
              "│ time_distributed                │ (\u001b[38;5;45mNone\u001b[0m, \u001b[38;5;34m75\u001b[0m, \u001b[38;5;34m6375\u001b[0m)       │             \u001b[38;5;34m0\u001b[0m │\n",
              "│ (\u001b[38;5;33mTimeDistributed\u001b[0m)               │                        │               │\n",
              "├─────────────────────────────────┼────────────────────────┼───────────────┤\n",
              "│ bidirectional (\u001b[38;5;33mBidirectional\u001b[0m)   │ (\u001b[38;5;45mNone\u001b[0m, \u001b[38;5;34m75\u001b[0m, \u001b[38;5;34m256\u001b[0m)        │     \u001b[38;5;34m6,660,096\u001b[0m │\n",
              "├─────────────────────────────────┼────────────────────────┼───────────────┤\n",
              "│ dropout (\u001b[38;5;33mDropout\u001b[0m)               │ (\u001b[38;5;45mNone\u001b[0m, \u001b[38;5;34m75\u001b[0m, \u001b[38;5;34m256\u001b[0m)        │             \u001b[38;5;34m0\u001b[0m │\n",
              "├─────────────────────────────────┼────────────────────────┼───────────────┤\n",
              "│ bidirectional_1 (\u001b[38;5;33mBidirectional\u001b[0m) │ (\u001b[38;5;45mNone\u001b[0m, \u001b[38;5;34m75\u001b[0m, \u001b[38;5;34m256\u001b[0m)        │       \u001b[38;5;34m394,240\u001b[0m │\n",
              "├─────────────────────────────────┼────────────────────────┼───────────────┤\n",
              "│ dropout_1 (\u001b[38;5;33mDropout\u001b[0m)             │ (\u001b[38;5;45mNone\u001b[0m, \u001b[38;5;34m75\u001b[0m, \u001b[38;5;34m256\u001b[0m)        │             \u001b[38;5;34m0\u001b[0m │\n",
              "├─────────────────────────────────┼────────────────────────┼───────────────┤\n",
              "│ dense (\u001b[38;5;33mDense\u001b[0m)                   │ (\u001b[38;5;45mNone\u001b[0m, \u001b[38;5;34m75\u001b[0m, \u001b[38;5;34m41\u001b[0m)         │        \u001b[38;5;34m10,537\u001b[0m │\n",
              "└─────────────────────────────────┴────────────────────────┴───────────────┘\n"
            ],
            "text/html": [
              "<pre style=\"white-space:pre;overflow-x:auto;line-height:normal;font-family:Menlo,'DejaVu Sans Mono',consolas,'Courier New',monospace\">┏━━━━━━━━━━━━━━━━━━━━━━━━━━━━━━━━━┳━━━━━━━━━━━━━━━━━━━━━━━━┳━━━━━━━━━━━━━━━┓\n",
              "┃<span style=\"font-weight: bold\"> Layer (type)                    </span>┃<span style=\"font-weight: bold\"> Output Shape           </span>┃<span style=\"font-weight: bold\">       Param # </span>┃\n",
              "┡━━━━━━━━━━━━━━━━━━━━━━━━━━━━━━━━━╇━━━━━━━━━━━━━━━━━━━━━━━━╇━━━━━━━━━━━━━━━┩\n",
              "│ conv3d (<span style=\"color: #0087ff; text-decoration-color: #0087ff\">Conv3D</span>)                 │ (<span style=\"color: #00d7ff; text-decoration-color: #00d7ff\">None</span>, <span style=\"color: #00af00; text-decoration-color: #00af00\">75</span>, <span style=\"color: #00af00; text-decoration-color: #00af00\">46</span>, <span style=\"color: #00af00; text-decoration-color: #00af00\">140</span>,    │         <span style=\"color: #00af00; text-decoration-color: #00af00\">3,584</span> │\n",
              "│                                 │ <span style=\"color: #00af00; text-decoration-color: #00af00\">128</span>)                   │               │\n",
              "├─────────────────────────────────┼────────────────────────┼───────────────┤\n",
              "│ activation (<span style=\"color: #0087ff; text-decoration-color: #0087ff\">Activation</span>)         │ (<span style=\"color: #00d7ff; text-decoration-color: #00d7ff\">None</span>, <span style=\"color: #00af00; text-decoration-color: #00af00\">75</span>, <span style=\"color: #00af00; text-decoration-color: #00af00\">46</span>, <span style=\"color: #00af00; text-decoration-color: #00af00\">140</span>,    │             <span style=\"color: #00af00; text-decoration-color: #00af00\">0</span> │\n",
              "│                                 │ <span style=\"color: #00af00; text-decoration-color: #00af00\">128</span>)                   │               │\n",
              "├─────────────────────────────────┼────────────────────────┼───────────────┤\n",
              "│ max_pooling3d (<span style=\"color: #0087ff; text-decoration-color: #0087ff\">MaxPooling3D</span>)    │ (<span style=\"color: #00d7ff; text-decoration-color: #00d7ff\">None</span>, <span style=\"color: #00af00; text-decoration-color: #00af00\">75</span>, <span style=\"color: #00af00; text-decoration-color: #00af00\">23</span>, <span style=\"color: #00af00; text-decoration-color: #00af00\">70</span>,     │             <span style=\"color: #00af00; text-decoration-color: #00af00\">0</span> │\n",
              "│                                 │ <span style=\"color: #00af00; text-decoration-color: #00af00\">128</span>)                   │               │\n",
              "├─────────────────────────────────┼────────────────────────┼───────────────┤\n",
              "│ conv3d_1 (<span style=\"color: #0087ff; text-decoration-color: #0087ff\">Conv3D</span>)               │ (<span style=\"color: #00d7ff; text-decoration-color: #00d7ff\">None</span>, <span style=\"color: #00af00; text-decoration-color: #00af00\">75</span>, <span style=\"color: #00af00; text-decoration-color: #00af00\">23</span>, <span style=\"color: #00af00; text-decoration-color: #00af00\">70</span>,     │       <span style=\"color: #00af00; text-decoration-color: #00af00\">884,992</span> │\n",
              "│                                 │ <span style=\"color: #00af00; text-decoration-color: #00af00\">256</span>)                   │               │\n",
              "├─────────────────────────────────┼────────────────────────┼───────────────┤\n",
              "│ activation_1 (<span style=\"color: #0087ff; text-decoration-color: #0087ff\">Activation</span>)       │ (<span style=\"color: #00d7ff; text-decoration-color: #00d7ff\">None</span>, <span style=\"color: #00af00; text-decoration-color: #00af00\">75</span>, <span style=\"color: #00af00; text-decoration-color: #00af00\">23</span>, <span style=\"color: #00af00; text-decoration-color: #00af00\">70</span>,     │             <span style=\"color: #00af00; text-decoration-color: #00af00\">0</span> │\n",
              "│                                 │ <span style=\"color: #00af00; text-decoration-color: #00af00\">256</span>)                   │               │\n",
              "├─────────────────────────────────┼────────────────────────┼───────────────┤\n",
              "│ max_pooling3d_1 (<span style=\"color: #0087ff; text-decoration-color: #0087ff\">MaxPooling3D</span>)  │ (<span style=\"color: #00d7ff; text-decoration-color: #00d7ff\">None</span>, <span style=\"color: #00af00; text-decoration-color: #00af00\">75</span>, <span style=\"color: #00af00; text-decoration-color: #00af00\">11</span>, <span style=\"color: #00af00; text-decoration-color: #00af00\">35</span>,     │             <span style=\"color: #00af00; text-decoration-color: #00af00\">0</span> │\n",
              "│                                 │ <span style=\"color: #00af00; text-decoration-color: #00af00\">256</span>)                   │               │\n",
              "├─────────────────────────────────┼────────────────────────┼───────────────┤\n",
              "│ conv3d_2 (<span style=\"color: #0087ff; text-decoration-color: #0087ff\">Conv3D</span>)               │ (<span style=\"color: #00d7ff; text-decoration-color: #00d7ff\">None</span>, <span style=\"color: #00af00; text-decoration-color: #00af00\">75</span>, <span style=\"color: #00af00; text-decoration-color: #00af00\">11</span>, <span style=\"color: #00af00; text-decoration-color: #00af00\">35</span>, <span style=\"color: #00af00; text-decoration-color: #00af00\">75</span>) │       <span style=\"color: #00af00; text-decoration-color: #00af00\">518,475</span> │\n",
              "├─────────────────────────────────┼────────────────────────┼───────────────┤\n",
              "│ activation_2 (<span style=\"color: #0087ff; text-decoration-color: #0087ff\">Activation</span>)       │ (<span style=\"color: #00d7ff; text-decoration-color: #00d7ff\">None</span>, <span style=\"color: #00af00; text-decoration-color: #00af00\">75</span>, <span style=\"color: #00af00; text-decoration-color: #00af00\">11</span>, <span style=\"color: #00af00; text-decoration-color: #00af00\">35</span>, <span style=\"color: #00af00; text-decoration-color: #00af00\">75</span>) │             <span style=\"color: #00af00; text-decoration-color: #00af00\">0</span> │\n",
              "├─────────────────────────────────┼────────────────────────┼───────────────┤\n",
              "│ max_pooling3d_2 (<span style=\"color: #0087ff; text-decoration-color: #0087ff\">MaxPooling3D</span>)  │ (<span style=\"color: #00d7ff; text-decoration-color: #00d7ff\">None</span>, <span style=\"color: #00af00; text-decoration-color: #00af00\">75</span>, <span style=\"color: #00af00; text-decoration-color: #00af00\">5</span>, <span style=\"color: #00af00; text-decoration-color: #00af00\">17</span>, <span style=\"color: #00af00; text-decoration-color: #00af00\">75</span>)  │             <span style=\"color: #00af00; text-decoration-color: #00af00\">0</span> │\n",
              "├─────────────────────────────────┼────────────────────────┼───────────────┤\n",
              "│ time_distributed                │ (<span style=\"color: #00d7ff; text-decoration-color: #00d7ff\">None</span>, <span style=\"color: #00af00; text-decoration-color: #00af00\">75</span>, <span style=\"color: #00af00; text-decoration-color: #00af00\">6375</span>)       │             <span style=\"color: #00af00; text-decoration-color: #00af00\">0</span> │\n",
              "│ (<span style=\"color: #0087ff; text-decoration-color: #0087ff\">TimeDistributed</span>)               │                        │               │\n",
              "├─────────────────────────────────┼────────────────────────┼───────────────┤\n",
              "│ bidirectional (<span style=\"color: #0087ff; text-decoration-color: #0087ff\">Bidirectional</span>)   │ (<span style=\"color: #00d7ff; text-decoration-color: #00d7ff\">None</span>, <span style=\"color: #00af00; text-decoration-color: #00af00\">75</span>, <span style=\"color: #00af00; text-decoration-color: #00af00\">256</span>)        │     <span style=\"color: #00af00; text-decoration-color: #00af00\">6,660,096</span> │\n",
              "├─────────────────────────────────┼────────────────────────┼───────────────┤\n",
              "│ dropout (<span style=\"color: #0087ff; text-decoration-color: #0087ff\">Dropout</span>)               │ (<span style=\"color: #00d7ff; text-decoration-color: #00d7ff\">None</span>, <span style=\"color: #00af00; text-decoration-color: #00af00\">75</span>, <span style=\"color: #00af00; text-decoration-color: #00af00\">256</span>)        │             <span style=\"color: #00af00; text-decoration-color: #00af00\">0</span> │\n",
              "├─────────────────────────────────┼────────────────────────┼───────────────┤\n",
              "│ bidirectional_1 (<span style=\"color: #0087ff; text-decoration-color: #0087ff\">Bidirectional</span>) │ (<span style=\"color: #00d7ff; text-decoration-color: #00d7ff\">None</span>, <span style=\"color: #00af00; text-decoration-color: #00af00\">75</span>, <span style=\"color: #00af00; text-decoration-color: #00af00\">256</span>)        │       <span style=\"color: #00af00; text-decoration-color: #00af00\">394,240</span> │\n",
              "├─────────────────────────────────┼────────────────────────┼───────────────┤\n",
              "│ dropout_1 (<span style=\"color: #0087ff; text-decoration-color: #0087ff\">Dropout</span>)             │ (<span style=\"color: #00d7ff; text-decoration-color: #00d7ff\">None</span>, <span style=\"color: #00af00; text-decoration-color: #00af00\">75</span>, <span style=\"color: #00af00; text-decoration-color: #00af00\">256</span>)        │             <span style=\"color: #00af00; text-decoration-color: #00af00\">0</span> │\n",
              "├─────────────────────────────────┼────────────────────────┼───────────────┤\n",
              "│ dense (<span style=\"color: #0087ff; text-decoration-color: #0087ff\">Dense</span>)                   │ (<span style=\"color: #00d7ff; text-decoration-color: #00d7ff\">None</span>, <span style=\"color: #00af00; text-decoration-color: #00af00\">75</span>, <span style=\"color: #00af00; text-decoration-color: #00af00\">41</span>)         │        <span style=\"color: #00af00; text-decoration-color: #00af00\">10,537</span> │\n",
              "└─────────────────────────────────┴────────────────────────┴───────────────┘\n",
              "</pre>\n"
            ]
          },
          "metadata": {}
        },
        {
          "output_type": "display_data",
          "data": {
            "text/plain": [
              "\u001b[1m Total params: \u001b[0m\u001b[38;5;34m8,471,924\u001b[0m (32.32 MB)\n"
            ],
            "text/html": [
              "<pre style=\"white-space:pre;overflow-x:auto;line-height:normal;font-family:Menlo,'DejaVu Sans Mono',consolas,'Courier New',monospace\"><span style=\"font-weight: bold\"> Total params: </span><span style=\"color: #00af00; text-decoration-color: #00af00\">8,471,924</span> (32.32 MB)\n",
              "</pre>\n"
            ]
          },
          "metadata": {}
        },
        {
          "output_type": "display_data",
          "data": {
            "text/plain": [
              "\u001b[1m Trainable params: \u001b[0m\u001b[38;5;34m8,471,924\u001b[0m (32.32 MB)\n"
            ],
            "text/html": [
              "<pre style=\"white-space:pre;overflow-x:auto;line-height:normal;font-family:Menlo,'DejaVu Sans Mono',consolas,'Courier New',monospace\"><span style=\"font-weight: bold\"> Trainable params: </span><span style=\"color: #00af00; text-decoration-color: #00af00\">8,471,924</span> (32.32 MB)\n",
              "</pre>\n"
            ]
          },
          "metadata": {}
        },
        {
          "output_type": "display_data",
          "data": {
            "text/plain": [
              "\u001b[1m Non-trainable params: \u001b[0m\u001b[38;5;34m0\u001b[0m (0.00 B)\n"
            ],
            "text/html": [
              "<pre style=\"white-space:pre;overflow-x:auto;line-height:normal;font-family:Menlo,'DejaVu Sans Mono',consolas,'Courier New',monospace\"><span style=\"font-weight: bold\"> Non-trainable params: </span><span style=\"color: #00af00; text-decoration-color: #00af00\">0</span> (0.00 B)\n",
              "</pre>\n"
            ]
          },
          "metadata": {}
        }
      ]
    },
    {
      "cell_type": "markdown",
      "source": [
        "## Connect to Drive"
      ],
      "metadata": {
        "id": "45tmi12jA033"
      }
    },
    {
      "cell_type": "code",
      "source": [
        "from google.colab import drive\n",
        "\n",
        "# Mount Google Drive to load and save checkpoints\n",
        "drive.mount('/content/drive')"
      ],
      "metadata": {
        "colab": {
          "base_uri": "https://localhost:8080/"
        },
        "id": "Kit3kfd2L1g8",
        "outputId": "082ee49c-1211-4b32-a6d2-34fd451e4b43"
      },
      "execution_count": 12,
      "outputs": [
        {
          "output_type": "stream",
          "name": "stdout",
          "text": [
            "Mounted at /content/drive\n"
          ]
        }
      ]
    },
    {
      "cell_type": "markdown",
      "source": [
        "## Set Up Learning Rate Scheduler"
      ],
      "metadata": {
        "id": "WSBS6wsH7G8L"
      }
    },
    {
      "cell_type": "code",
      "source": [
        "from tensorflow.keras.callbacks import LearningRateScheduler\n",
        "\n",
        "# Learning rate scheduler to reduce LR\n",
        "def scheduler(epoch: int):\n",
        "    if epoch < 30:\n",
        "        return 1e-3\n",
        "    else:\n",
        "        return 1e-4\n",
        "\n",
        "# Wrap scheduler in a TensorFlow callback\n",
        "scheduler_callback = tf.keras.callbacks.LearningRateScheduler(scheduler)"
      ],
      "metadata": {
        "id": "RDJtMkwP7KCi"
      },
      "execution_count": 13,
      "outputs": []
    },
    {
      "cell_type": "markdown",
      "source": [
        "## Create Custom CTCLoss Class"
      ],
      "metadata": {
        "id": "SJUlYan87OyL"
      }
    },
    {
      "cell_type": "code",
      "source": [
        "from tensorflow.keras import backend as K\n",
        "from keras.saving import register_keras_serializable\n",
        "\n",
        "# Register the class so it can be saved/loaded with a model\n",
        "@register_keras_serializable()\n",
        "class CTCLoss(tf.keras.losses.Loss):\n",
        "\n",
        "    # Compute the CTC loss between predicted sequences and ground truth\n",
        "    def call(self, y_true, y_pred):\n",
        "\n",
        "        # Compute batch size, input sequence length, and label sequence length\n",
        "        batch_len = tf.cast(tf.shape(y_true)[0], dtype=\"int64\")\n",
        "        input_length = tf.cast(tf.shape(y_pred)[1], dtype=\"int64\")\n",
        "        label_length = tf.cast(tf.shape(y_true)[1], dtype=\"int64\")\n",
        "\n",
        "        # Create tensors for input and label lengths\n",
        "        input_length = input_length * tf.ones(shape=(batch_len, 1), dtype=\"int64\")\n",
        "        label_length = label_length * tf.ones(shape=(batch_len, 1), dtype=\"int64\")\n",
        "\n",
        "        # Return the CTC loss for the entire batch\n",
        "        return K.ctc_batch_cost(y_true, y_pred, input_length, label_length)"
      ],
      "metadata": {
        "id": "b7zKkTvJ7SQs"
      },
      "execution_count": 14,
      "outputs": []
    },
    {
      "cell_type": "markdown",
      "source": [
        "## Load the Best Saved Model"
      ],
      "metadata": {
        "id": "CAkTQHLKCN7C"
      }
    },
    {
      "cell_type": "code",
      "source": [
        "from tensorflow.keras.models import load_model\n",
        "\n",
        "# Load the trained model and register custom CTCLoss for deserialization\n",
        "model = load_model(\n",
        "    '/content/drive/MyDrive/Labiomancy_checkpoints/Best_model.keras',\n",
        "    custom_objects={'CTCLoss': CTCLoss}\n",
        ")"
      ],
      "metadata": {
        "id": "kxutC_TdCEKr"
      },
      "execution_count": 15,
      "outputs": []
    },
    {
      "cell_type": "code",
      "source": [
        "model.summary()"
      ],
      "metadata": {
        "id": "MR_Khak5CWsx",
        "colab": {
          "base_uri": "https://localhost:8080/",
          "height": 737
        },
        "outputId": "eb2efe10-26cb-4b0f-a199-5e8a7e3d5c90"
      },
      "execution_count": 16,
      "outputs": [
        {
          "output_type": "display_data",
          "data": {
            "text/plain": [
              "\u001b[1mModel: \"sequential\"\u001b[0m\n"
            ],
            "text/html": [
              "<pre style=\"white-space:pre;overflow-x:auto;line-height:normal;font-family:Menlo,'DejaVu Sans Mono',consolas,'Courier New',monospace\"><span style=\"font-weight: bold\">Model: \"sequential\"</span>\n",
              "</pre>\n"
            ]
          },
          "metadata": {}
        },
        {
          "output_type": "display_data",
          "data": {
            "text/plain": [
              "┏━━━━━━━━━━━━━━━━━━━━━━━━━━━━━━━━━┳━━━━━━━━━━━━━━━━━━━━━━━━┳━━━━━━━━━━━━━━━┓\n",
              "┃\u001b[1m \u001b[0m\u001b[1mLayer (type)                   \u001b[0m\u001b[1m \u001b[0m┃\u001b[1m \u001b[0m\u001b[1mOutput Shape          \u001b[0m\u001b[1m \u001b[0m┃\u001b[1m \u001b[0m\u001b[1m      Param #\u001b[0m\u001b[1m \u001b[0m┃\n",
              "┡━━━━━━━━━━━━━━━━━━━━━━━━━━━━━━━━━╇━━━━━━━━━━━━━━━━━━━━━━━━╇━━━━━━━━━━━━━━━┩\n",
              "│ conv3d (\u001b[38;5;33mConv3D\u001b[0m)                 │ (\u001b[38;5;45mNone\u001b[0m, \u001b[38;5;34m75\u001b[0m, \u001b[38;5;34m46\u001b[0m, \u001b[38;5;34m140\u001b[0m,    │         \u001b[38;5;34m3,584\u001b[0m │\n",
              "│                                 │ \u001b[38;5;34m128\u001b[0m)                   │               │\n",
              "├─────────────────────────────────┼────────────────────────┼───────────────┤\n",
              "│ activation (\u001b[38;5;33mActivation\u001b[0m)         │ (\u001b[38;5;45mNone\u001b[0m, \u001b[38;5;34m75\u001b[0m, \u001b[38;5;34m46\u001b[0m, \u001b[38;5;34m140\u001b[0m,    │             \u001b[38;5;34m0\u001b[0m │\n",
              "│                                 │ \u001b[38;5;34m128\u001b[0m)                   │               │\n",
              "├─────────────────────────────────┼────────────────────────┼───────────────┤\n",
              "│ max_pooling3d (\u001b[38;5;33mMaxPooling3D\u001b[0m)    │ (\u001b[38;5;45mNone\u001b[0m, \u001b[38;5;34m75\u001b[0m, \u001b[38;5;34m23\u001b[0m, \u001b[38;5;34m70\u001b[0m,     │             \u001b[38;5;34m0\u001b[0m │\n",
              "│                                 │ \u001b[38;5;34m128\u001b[0m)                   │               │\n",
              "├─────────────────────────────────┼────────────────────────┼───────────────┤\n",
              "│ conv3d_1 (\u001b[38;5;33mConv3D\u001b[0m)               │ (\u001b[38;5;45mNone\u001b[0m, \u001b[38;5;34m75\u001b[0m, \u001b[38;5;34m23\u001b[0m, \u001b[38;5;34m70\u001b[0m,     │       \u001b[38;5;34m884,992\u001b[0m │\n",
              "│                                 │ \u001b[38;5;34m256\u001b[0m)                   │               │\n",
              "├─────────────────────────────────┼────────────────────────┼───────────────┤\n",
              "│ activation_1 (\u001b[38;5;33mActivation\u001b[0m)       │ (\u001b[38;5;45mNone\u001b[0m, \u001b[38;5;34m75\u001b[0m, \u001b[38;5;34m23\u001b[0m, \u001b[38;5;34m70\u001b[0m,     │             \u001b[38;5;34m0\u001b[0m │\n",
              "│                                 │ \u001b[38;5;34m256\u001b[0m)                   │               │\n",
              "├─────────────────────────────────┼────────────────────────┼───────────────┤\n",
              "│ max_pooling3d_1 (\u001b[38;5;33mMaxPooling3D\u001b[0m)  │ (\u001b[38;5;45mNone\u001b[0m, \u001b[38;5;34m75\u001b[0m, \u001b[38;5;34m11\u001b[0m, \u001b[38;5;34m35\u001b[0m,     │             \u001b[38;5;34m0\u001b[0m │\n",
              "│                                 │ \u001b[38;5;34m256\u001b[0m)                   │               │\n",
              "├─────────────────────────────────┼────────────────────────┼───────────────┤\n",
              "│ conv3d_2 (\u001b[38;5;33mConv3D\u001b[0m)               │ (\u001b[38;5;45mNone\u001b[0m, \u001b[38;5;34m75\u001b[0m, \u001b[38;5;34m11\u001b[0m, \u001b[38;5;34m35\u001b[0m, \u001b[38;5;34m75\u001b[0m) │       \u001b[38;5;34m518,475\u001b[0m │\n",
              "├─────────────────────────────────┼────────────────────────┼───────────────┤\n",
              "│ activation_2 (\u001b[38;5;33mActivation\u001b[0m)       │ (\u001b[38;5;45mNone\u001b[0m, \u001b[38;5;34m75\u001b[0m, \u001b[38;5;34m11\u001b[0m, \u001b[38;5;34m35\u001b[0m, \u001b[38;5;34m75\u001b[0m) │             \u001b[38;5;34m0\u001b[0m │\n",
              "├─────────────────────────────────┼────────────────────────┼───────────────┤\n",
              "│ max_pooling3d_2 (\u001b[38;5;33mMaxPooling3D\u001b[0m)  │ (\u001b[38;5;45mNone\u001b[0m, \u001b[38;5;34m75\u001b[0m, \u001b[38;5;34m5\u001b[0m, \u001b[38;5;34m17\u001b[0m, \u001b[38;5;34m75\u001b[0m)  │             \u001b[38;5;34m0\u001b[0m │\n",
              "├─────────────────────────────────┼────────────────────────┼───────────────┤\n",
              "│ time_distributed                │ (\u001b[38;5;45mNone\u001b[0m, \u001b[38;5;34m75\u001b[0m, \u001b[38;5;34m6375\u001b[0m)       │             \u001b[38;5;34m0\u001b[0m │\n",
              "│ (\u001b[38;5;33mTimeDistributed\u001b[0m)               │                        │               │\n",
              "├─────────────────────────────────┼────────────────────────┼───────────────┤\n",
              "│ bidirectional (\u001b[38;5;33mBidirectional\u001b[0m)   │ (\u001b[38;5;45mNone\u001b[0m, \u001b[38;5;34m75\u001b[0m, \u001b[38;5;34m256\u001b[0m)        │     \u001b[38;5;34m6,660,096\u001b[0m │\n",
              "├─────────────────────────────────┼────────────────────────┼───────────────┤\n",
              "│ dropout (\u001b[38;5;33mDropout\u001b[0m)               │ (\u001b[38;5;45mNone\u001b[0m, \u001b[38;5;34m75\u001b[0m, \u001b[38;5;34m256\u001b[0m)        │             \u001b[38;5;34m0\u001b[0m │\n",
              "├─────────────────────────────────┼────────────────────────┼───────────────┤\n",
              "│ bidirectional_1 (\u001b[38;5;33mBidirectional\u001b[0m) │ (\u001b[38;5;45mNone\u001b[0m, \u001b[38;5;34m75\u001b[0m, \u001b[38;5;34m256\u001b[0m)        │       \u001b[38;5;34m394,240\u001b[0m │\n",
              "├─────────────────────────────────┼────────────────────────┼───────────────┤\n",
              "│ dropout_1 (\u001b[38;5;33mDropout\u001b[0m)             │ (\u001b[38;5;45mNone\u001b[0m, \u001b[38;5;34m75\u001b[0m, \u001b[38;5;34m256\u001b[0m)        │             \u001b[38;5;34m0\u001b[0m │\n",
              "├─────────────────────────────────┼────────────────────────┼───────────────┤\n",
              "│ dense (\u001b[38;5;33mDense\u001b[0m)                   │ (\u001b[38;5;45mNone\u001b[0m, \u001b[38;5;34m75\u001b[0m, \u001b[38;5;34m41\u001b[0m)         │        \u001b[38;5;34m10,537\u001b[0m │\n",
              "└─────────────────────────────────┴────────────────────────┴───────────────┘\n"
            ],
            "text/html": [
              "<pre style=\"white-space:pre;overflow-x:auto;line-height:normal;font-family:Menlo,'DejaVu Sans Mono',consolas,'Courier New',monospace\">┏━━━━━━━━━━━━━━━━━━━━━━━━━━━━━━━━━┳━━━━━━━━━━━━━━━━━━━━━━━━┳━━━━━━━━━━━━━━━┓\n",
              "┃<span style=\"font-weight: bold\"> Layer (type)                    </span>┃<span style=\"font-weight: bold\"> Output Shape           </span>┃<span style=\"font-weight: bold\">       Param # </span>┃\n",
              "┡━━━━━━━━━━━━━━━━━━━━━━━━━━━━━━━━━╇━━━━━━━━━━━━━━━━━━━━━━━━╇━━━━━━━━━━━━━━━┩\n",
              "│ conv3d (<span style=\"color: #0087ff; text-decoration-color: #0087ff\">Conv3D</span>)                 │ (<span style=\"color: #00d7ff; text-decoration-color: #00d7ff\">None</span>, <span style=\"color: #00af00; text-decoration-color: #00af00\">75</span>, <span style=\"color: #00af00; text-decoration-color: #00af00\">46</span>, <span style=\"color: #00af00; text-decoration-color: #00af00\">140</span>,    │         <span style=\"color: #00af00; text-decoration-color: #00af00\">3,584</span> │\n",
              "│                                 │ <span style=\"color: #00af00; text-decoration-color: #00af00\">128</span>)                   │               │\n",
              "├─────────────────────────────────┼────────────────────────┼───────────────┤\n",
              "│ activation (<span style=\"color: #0087ff; text-decoration-color: #0087ff\">Activation</span>)         │ (<span style=\"color: #00d7ff; text-decoration-color: #00d7ff\">None</span>, <span style=\"color: #00af00; text-decoration-color: #00af00\">75</span>, <span style=\"color: #00af00; text-decoration-color: #00af00\">46</span>, <span style=\"color: #00af00; text-decoration-color: #00af00\">140</span>,    │             <span style=\"color: #00af00; text-decoration-color: #00af00\">0</span> │\n",
              "│                                 │ <span style=\"color: #00af00; text-decoration-color: #00af00\">128</span>)                   │               │\n",
              "├─────────────────────────────────┼────────────────────────┼───────────────┤\n",
              "│ max_pooling3d (<span style=\"color: #0087ff; text-decoration-color: #0087ff\">MaxPooling3D</span>)    │ (<span style=\"color: #00d7ff; text-decoration-color: #00d7ff\">None</span>, <span style=\"color: #00af00; text-decoration-color: #00af00\">75</span>, <span style=\"color: #00af00; text-decoration-color: #00af00\">23</span>, <span style=\"color: #00af00; text-decoration-color: #00af00\">70</span>,     │             <span style=\"color: #00af00; text-decoration-color: #00af00\">0</span> │\n",
              "│                                 │ <span style=\"color: #00af00; text-decoration-color: #00af00\">128</span>)                   │               │\n",
              "├─────────────────────────────────┼────────────────────────┼───────────────┤\n",
              "│ conv3d_1 (<span style=\"color: #0087ff; text-decoration-color: #0087ff\">Conv3D</span>)               │ (<span style=\"color: #00d7ff; text-decoration-color: #00d7ff\">None</span>, <span style=\"color: #00af00; text-decoration-color: #00af00\">75</span>, <span style=\"color: #00af00; text-decoration-color: #00af00\">23</span>, <span style=\"color: #00af00; text-decoration-color: #00af00\">70</span>,     │       <span style=\"color: #00af00; text-decoration-color: #00af00\">884,992</span> │\n",
              "│                                 │ <span style=\"color: #00af00; text-decoration-color: #00af00\">256</span>)                   │               │\n",
              "├─────────────────────────────────┼────────────────────────┼───────────────┤\n",
              "│ activation_1 (<span style=\"color: #0087ff; text-decoration-color: #0087ff\">Activation</span>)       │ (<span style=\"color: #00d7ff; text-decoration-color: #00d7ff\">None</span>, <span style=\"color: #00af00; text-decoration-color: #00af00\">75</span>, <span style=\"color: #00af00; text-decoration-color: #00af00\">23</span>, <span style=\"color: #00af00; text-decoration-color: #00af00\">70</span>,     │             <span style=\"color: #00af00; text-decoration-color: #00af00\">0</span> │\n",
              "│                                 │ <span style=\"color: #00af00; text-decoration-color: #00af00\">256</span>)                   │               │\n",
              "├─────────────────────────────────┼────────────────────────┼───────────────┤\n",
              "│ max_pooling3d_1 (<span style=\"color: #0087ff; text-decoration-color: #0087ff\">MaxPooling3D</span>)  │ (<span style=\"color: #00d7ff; text-decoration-color: #00d7ff\">None</span>, <span style=\"color: #00af00; text-decoration-color: #00af00\">75</span>, <span style=\"color: #00af00; text-decoration-color: #00af00\">11</span>, <span style=\"color: #00af00; text-decoration-color: #00af00\">35</span>,     │             <span style=\"color: #00af00; text-decoration-color: #00af00\">0</span> │\n",
              "│                                 │ <span style=\"color: #00af00; text-decoration-color: #00af00\">256</span>)                   │               │\n",
              "├─────────────────────────────────┼────────────────────────┼───────────────┤\n",
              "│ conv3d_2 (<span style=\"color: #0087ff; text-decoration-color: #0087ff\">Conv3D</span>)               │ (<span style=\"color: #00d7ff; text-decoration-color: #00d7ff\">None</span>, <span style=\"color: #00af00; text-decoration-color: #00af00\">75</span>, <span style=\"color: #00af00; text-decoration-color: #00af00\">11</span>, <span style=\"color: #00af00; text-decoration-color: #00af00\">35</span>, <span style=\"color: #00af00; text-decoration-color: #00af00\">75</span>) │       <span style=\"color: #00af00; text-decoration-color: #00af00\">518,475</span> │\n",
              "├─────────────────────────────────┼────────────────────────┼───────────────┤\n",
              "│ activation_2 (<span style=\"color: #0087ff; text-decoration-color: #0087ff\">Activation</span>)       │ (<span style=\"color: #00d7ff; text-decoration-color: #00d7ff\">None</span>, <span style=\"color: #00af00; text-decoration-color: #00af00\">75</span>, <span style=\"color: #00af00; text-decoration-color: #00af00\">11</span>, <span style=\"color: #00af00; text-decoration-color: #00af00\">35</span>, <span style=\"color: #00af00; text-decoration-color: #00af00\">75</span>) │             <span style=\"color: #00af00; text-decoration-color: #00af00\">0</span> │\n",
              "├─────────────────────────────────┼────────────────────────┼───────────────┤\n",
              "│ max_pooling3d_2 (<span style=\"color: #0087ff; text-decoration-color: #0087ff\">MaxPooling3D</span>)  │ (<span style=\"color: #00d7ff; text-decoration-color: #00d7ff\">None</span>, <span style=\"color: #00af00; text-decoration-color: #00af00\">75</span>, <span style=\"color: #00af00; text-decoration-color: #00af00\">5</span>, <span style=\"color: #00af00; text-decoration-color: #00af00\">17</span>, <span style=\"color: #00af00; text-decoration-color: #00af00\">75</span>)  │             <span style=\"color: #00af00; text-decoration-color: #00af00\">0</span> │\n",
              "├─────────────────────────────────┼────────────────────────┼───────────────┤\n",
              "│ time_distributed                │ (<span style=\"color: #00d7ff; text-decoration-color: #00d7ff\">None</span>, <span style=\"color: #00af00; text-decoration-color: #00af00\">75</span>, <span style=\"color: #00af00; text-decoration-color: #00af00\">6375</span>)       │             <span style=\"color: #00af00; text-decoration-color: #00af00\">0</span> │\n",
              "│ (<span style=\"color: #0087ff; text-decoration-color: #0087ff\">TimeDistributed</span>)               │                        │               │\n",
              "├─────────────────────────────────┼────────────────────────┼───────────────┤\n",
              "│ bidirectional (<span style=\"color: #0087ff; text-decoration-color: #0087ff\">Bidirectional</span>)   │ (<span style=\"color: #00d7ff; text-decoration-color: #00d7ff\">None</span>, <span style=\"color: #00af00; text-decoration-color: #00af00\">75</span>, <span style=\"color: #00af00; text-decoration-color: #00af00\">256</span>)        │     <span style=\"color: #00af00; text-decoration-color: #00af00\">6,660,096</span> │\n",
              "├─────────────────────────────────┼────────────────────────┼───────────────┤\n",
              "│ dropout (<span style=\"color: #0087ff; text-decoration-color: #0087ff\">Dropout</span>)               │ (<span style=\"color: #00d7ff; text-decoration-color: #00d7ff\">None</span>, <span style=\"color: #00af00; text-decoration-color: #00af00\">75</span>, <span style=\"color: #00af00; text-decoration-color: #00af00\">256</span>)        │             <span style=\"color: #00af00; text-decoration-color: #00af00\">0</span> │\n",
              "├─────────────────────────────────┼────────────────────────┼───────────────┤\n",
              "│ bidirectional_1 (<span style=\"color: #0087ff; text-decoration-color: #0087ff\">Bidirectional</span>) │ (<span style=\"color: #00d7ff; text-decoration-color: #00d7ff\">None</span>, <span style=\"color: #00af00; text-decoration-color: #00af00\">75</span>, <span style=\"color: #00af00; text-decoration-color: #00af00\">256</span>)        │       <span style=\"color: #00af00; text-decoration-color: #00af00\">394,240</span> │\n",
              "├─────────────────────────────────┼────────────────────────┼───────────────┤\n",
              "│ dropout_1 (<span style=\"color: #0087ff; text-decoration-color: #0087ff\">Dropout</span>)             │ (<span style=\"color: #00d7ff; text-decoration-color: #00d7ff\">None</span>, <span style=\"color: #00af00; text-decoration-color: #00af00\">75</span>, <span style=\"color: #00af00; text-decoration-color: #00af00\">256</span>)        │             <span style=\"color: #00af00; text-decoration-color: #00af00\">0</span> │\n",
              "├─────────────────────────────────┼────────────────────────┼───────────────┤\n",
              "│ dense (<span style=\"color: #0087ff; text-decoration-color: #0087ff\">Dense</span>)                   │ (<span style=\"color: #00d7ff; text-decoration-color: #00d7ff\">None</span>, <span style=\"color: #00af00; text-decoration-color: #00af00\">75</span>, <span style=\"color: #00af00; text-decoration-color: #00af00\">41</span>)         │        <span style=\"color: #00af00; text-decoration-color: #00af00\">10,537</span> │\n",
              "└─────────────────────────────────┴────────────────────────┴───────────────┘\n",
              "</pre>\n"
            ]
          },
          "metadata": {}
        },
        {
          "output_type": "display_data",
          "data": {
            "text/plain": [
              "\u001b[1m Total params: \u001b[0m\u001b[38;5;34m25,415,774\u001b[0m (96.95 MB)\n"
            ],
            "text/html": [
              "<pre style=\"white-space:pre;overflow-x:auto;line-height:normal;font-family:Menlo,'DejaVu Sans Mono',consolas,'Courier New',monospace\"><span style=\"font-weight: bold\"> Total params: </span><span style=\"color: #00af00; text-decoration-color: #00af00\">25,415,774</span> (96.95 MB)\n",
              "</pre>\n"
            ]
          },
          "metadata": {}
        },
        {
          "output_type": "display_data",
          "data": {
            "text/plain": [
              "\u001b[1m Trainable params: \u001b[0m\u001b[38;5;34m8,471,924\u001b[0m (32.32 MB)\n"
            ],
            "text/html": [
              "<pre style=\"white-space:pre;overflow-x:auto;line-height:normal;font-family:Menlo,'DejaVu Sans Mono',consolas,'Courier New',monospace\"><span style=\"font-weight: bold\"> Trainable params: </span><span style=\"color: #00af00; text-decoration-color: #00af00\">8,471,924</span> (32.32 MB)\n",
              "</pre>\n"
            ]
          },
          "metadata": {}
        },
        {
          "output_type": "display_data",
          "data": {
            "text/plain": [
              "\u001b[1m Non-trainable params: \u001b[0m\u001b[38;5;34m0\u001b[0m (0.00 B)\n"
            ],
            "text/html": [
              "<pre style=\"white-space:pre;overflow-x:auto;line-height:normal;font-family:Menlo,'DejaVu Sans Mono',consolas,'Courier New',monospace\"><span style=\"font-weight: bold\"> Non-trainable params: </span><span style=\"color: #00af00; text-decoration-color: #00af00\">0</span> (0.00 B)\n",
              "</pre>\n"
            ]
          },
          "metadata": {}
        },
        {
          "output_type": "display_data",
          "data": {
            "text/plain": [
              "\u001b[1m Optimizer params: \u001b[0m\u001b[38;5;34m16,943,850\u001b[0m (64.64 MB)\n"
            ],
            "text/html": [
              "<pre style=\"white-space:pre;overflow-x:auto;line-height:normal;font-family:Menlo,'DejaVu Sans Mono',consolas,'Courier New',monospace\"><span style=\"font-weight: bold\"> Optimizer params: </span><span style=\"color: #00af00; text-decoration-color: #00af00\">16,943,850</span> (64.64 MB)\n",
              "</pre>\n"
            ]
          },
          "metadata": {}
        }
      ]
    },
    {
      "cell_type": "markdown",
      "source": [
        "## Compile Model and Define Model Checkpoint  "
      ],
      "metadata": {
        "id": "qVd54_d68qC5"
      }
    },
    {
      "cell_type": "code",
      "source": [
        "# Compile model with Adam optimizer and CTC loss\n",
        "model.compile(optimizer=Adam(learning_rate=0.0001), loss=CTCLoss)"
      ],
      "metadata": {
        "id": "38ljMZbhC25T"
      },
      "execution_count": 16,
      "outputs": []
    },
    {
      "cell_type": "code",
      "source": [
        "from tensorflow.keras.callbacks import ModelCheckpoint\n",
        "\n",
        "# Create checkpoint directory inside Drive\n",
        "checkpoint_dir = '/content/drive/MyDrive/Labiomancy_checkpoints'\n",
        "os.makedirs(checkpoint_dir, exist_ok=True)\n",
        "\n",
        "# Setup checkpoint callback to save best model by validation loss\n",
        "checkpoint_callback = ModelCheckpoint(\n",
        "    filepath=os.path.join(checkpoint_dir, 'Best_model.keras'),\n",
        "    monitor='val_loss',\n",
        "    save_best_only=True,\n",
        "    save_weights_only=False,\n",
        "    verbose=1\n",
        ")"
      ],
      "metadata": {
        "id": "nG3IcjkG8srb"
      },
      "execution_count": 17,
      "outputs": []
    },
    {
      "cell_type": "markdown",
      "source": [
        "## Create Callback to Decode and Display Predictions\n"
      ],
      "metadata": {
        "id": "AYJQKvIu7UMC"
      }
    },
    {
      "cell_type": "code",
      "source": [
        "class ProduceExample(tf.keras.callbacks.Callback):\n",
        "\n",
        "    # Initialize with dataset (store dataset directly, not iterator)\n",
        "    def __init__(self, dataset) -> None:\n",
        "        self.dataset = dataset\n",
        "\n",
        "    def on_epoch_end(self, epoch, logs=None) -> None:\n",
        "        try:\n",
        "\n",
        "            # Create a fresh iterator and get one batch of data\n",
        "            data = next(iter(self.dataset))\n",
        "            # Unpack batch into videos and labels\n",
        "            videos, labels = data\n",
        "\n",
        "            # Predict on videos using the current model\n",
        "            yhat = self.model.predict(videos)\n",
        "\n",
        "            # Decode predicted sequences using CTC greedy decoding\n",
        "            decoded = tf.keras.backend.ctc_decode(\n",
        "                yhat,\n",
        "                input_length=[yhat.shape[1]] * yhat.shape[0],\n",
        "                greedy=True\n",
        "            )[0][0].numpy()\n",
        "\n",
        "            # Iterate over first two examples or fewer\n",
        "            for i in range(min(2, len(yhat))):\n",
        "                # Convert original labels indices to readable text\n",
        "                original = tf.strings.reduce_join(num_to_char(labels[i])).numpy().decode(\"utf-8\")\n",
        "                # Convert decoded predictions indices to readable text\n",
        "                predicted = tf.strings.reduce_join(num_to_char(decoded[i])).numpy().decode(\"utf-8\")\n",
        "\n",
        "                # Print the original and predicted texts\n",
        "                print(\"Original:\", original)\n",
        "                print(\"Prediction:\", predicted)\n",
        "                # Print a separator for readability\n",
        "                print(\"~\" * 100)\n",
        "\n",
        "        except Exception as e:\n",
        "            # Handle exceptions gracefully without stopping training\n",
        "            print(f\"[Callback Error] Skipping example callback due to: {e}\")\n",
        "\n",
        "# Show predictions after each epoch using test set\n",
        "example_callback = ProduceExample(test)"
      ],
      "metadata": {
        "id": "Z2FUmMH67Y_j"
      },
      "execution_count": 18,
      "outputs": []
    },
    {
      "cell_type": "markdown",
      "source": [
        "## Calculate Character-Level Accuracy"
      ],
      "metadata": {
        "id": "dCTkAxvj7bIZ"
      }
    },
    {
      "cell_type": "code",
      "source": [
        "from sklearn.metrics import accuracy_score\n",
        "\n",
        "class CharacterAccuracyCallback(tf.keras.callbacks.Callback):\n",
        "    def __init__(self, dataset):\n",
        "        super().__init__()\n",
        "\n",
        "        # Store dataset to compute accuracy on samples\n",
        "        self.dataset = dataset\n",
        "        self.accuracy_per_epoch = []\n",
        "\n",
        "    def decode_seq(self, seq):\n",
        "\n",
        "        # Convert sequence indices to characters, ignore padding (0)\n",
        "        return [num_to_char(c).numpy().decode('utf-8') for c in seq if c != 0]\n",
        "\n",
        "    def on_epoch_end(self, epoch, logs=None):\n",
        "        y_true_chars = []\n",
        "        y_pred_chars = []\n",
        "\n",
        "        # Take only 5 batches for faster evaluation\n",
        "        for batch in self.dataset.take(5):\n",
        "            videos, labels = batch\n",
        "            yhat = self.model.predict(videos)\n",
        "\n",
        "            # Decode predictions using greedy CTC decoding\n",
        "            decoded = tf.keras.backend.ctc_decode(\n",
        "                yhat,\n",
        "                input_length=[yhat.shape[1]] * yhat.shape[0],\n",
        "                greedy=True\n",
        "            )[0][0].numpy()\n",
        "\n",
        "            # Compare each true and predicted sequence character-wise\n",
        "            for true_seq, pred_seq in zip(labels.numpy(), decoded):\n",
        "                true_dec = self.decode_seq(true_seq)\n",
        "                pred_dec = self.decode_seq(pred_seq)\n",
        "                min_len = min(len(true_dec), len(pred_dec))\n",
        "                y_true_chars.extend(true_dec[:min_len])\n",
        "                y_pred_chars.extend(pred_dec[:min_len])\n",
        "\n",
        "        # Compute accuracy score and save it\n",
        "        acc = accuracy_score(y_true_chars, y_pred_chars)\n",
        "        self.accuracy_per_epoch.append(acc)\n",
        "        print(f\"\\n[Epoch {epoch+1}] Character-Level Accuracy: {acc:.4f}\")\n",
        "\n",
        "# Initialize callback with test dataset\n",
        "acc_callback = CharacterAccuracyCallback(test)"
      ],
      "metadata": {
        "id": "M8dujbhW7chy"
      },
      "execution_count": 19,
      "outputs": []
    },
    {
      "cell_type": "markdown",
      "source": [
        "## Save Training History"
      ],
      "metadata": {
        "id": "WszSC0gT7exM"
      }
    },
    {
      "cell_type": "code",
      "source": [
        "import pickle\n",
        "\n",
        "class HistorySaverCallback(tf.keras.callbacks.Callback):\n",
        "    def __init__(self, save_path):\n",
        "        super().__init__()\n",
        "        self.save_path = save_path\n",
        "        self.history = {}\n",
        "\n",
        "        # Load existing history if available\n",
        "        if os.path.exists(self.save_path):\n",
        "            with open(self.save_path, 'rb') as f:\n",
        "                self.history = pickle.load(f)\n",
        "\n",
        "    def on_epoch_end(self, epoch, logs=None):\n",
        "        logs = logs or {}\n",
        "\n",
        "        # Append current epoch metrics to history dictionary\n",
        "        for k, v in logs.items():\n",
        "            self.history.setdefault(k, []).append(v)\n",
        "\n",
        "        # Save updated history to disk\n",
        "        with open(self.save_path, 'wb') as f:\n",
        "            pickle.dump(self.history, f)\n",
        "\n",
        "        # Confirm that history was saved successfully\n",
        "        print(f\"[Epoch {epoch+1}] History saved to {self.save_path}\")\n",
        "\n",
        "# Create and initialize the callback with path to Drive\n",
        "history_saver = HistorySaverCallback('/content/drive/MyDrive/Labiomancy_checkpoints/History_live.pkl')"
      ],
      "metadata": {
        "id": "rWPHhjaVmgP3"
      },
      "execution_count": null,
      "outputs": []
    },
    {
      "cell_type": "markdown",
      "source": [
        "## Train the Model"
      ],
      "metadata": {
        "id": "hPAaI0wO7lvo"
      }
    },
    {
      "cell_type": "code",
      "source": [
        "# Resume training with all callbacks\n",
        "history = model.fit(\n",
        "    train,\n",
        "    validation_data=test,\n",
        "    initial_epoch=10,\n",
        "    epochs=70,\n",
        "    callbacks=[acc_callback, checkpoint_callback, schedule_callback, example_callback, history_saver]\n",
        ")"
      ],
      "metadata": {
        "id": "I52wLRLJ7nmA"
      },
      "execution_count": null,
      "outputs": []
    },
    {
      "cell_type": "markdown",
      "source": [
        "# Make Prediction from Test Set"
      ],
      "metadata": {
        "id": "YQISubNpDxxS"
      }
    },
    {
      "cell_type": "code",
      "source": [
        "# Prepare one test batch\n",
        "test_data = test.as_numpy_iterator()\n",
        "sample = test_data.next()\n",
        "\n",
        "# Run prediction on the batch\n",
        "yhat = model.predict(sample[0])\n",
        "\n",
        "# Decode the predicted sequences using CTC greedy decoder\n",
        "input_len = [yhat.shape[1]] * yhat.shape[0]\n",
        "decoded = tf.keras.backend.ctc_decode(yhat, input_length=input_len, greedy=True)[0][0].numpy()\n",
        "\n",
        "# Print ground truth character sequences\n",
        "print('~' * 100)\n",
        "print('Original Texts:')\n",
        "for sentence in sample[1]:\n",
        "    print(tf.strings.reduce_join([num_to_char(char) for char in sentence]).numpy().decode('utf-8'))\n",
        "\n",
        "# Print predicted character sequences\n",
        "print('~' * 100)\n",
        "print('Predicted Texts:')\n",
        "for sentence in decoded:\n",
        "    print(tf.strings.reduce_join([num_to_char(char) for char in sentence]).numpy().decode('utf-8'))"
      ],
      "metadata": {
        "id": "OShPv_uMMMkT",
        "colab": {
          "base_uri": "https://localhost:8080/"
        },
        "outputId": "1e14825e-fefa-42c4-e9ba-b21cd731d40a"
      },
      "execution_count": 22,
      "outputs": [
        {
          "output_type": "stream",
          "name": "stdout",
          "text": [
            "\u001b[1m1/1\u001b[0m \u001b[32m━━━━━━━━━━━━━━━━━━━━\u001b[0m\u001b[37m\u001b[0m \u001b[1m6s\u001b[0m 6s/step\n",
            "~~~~~~~~~~~~~~~~~~~~~~~~~~~~~~~~~~~~~~~~~~~~~~~~~~~~~~~~~~~~~~~~~~~~~~~~~~~~~~~~~~~~~~~~~~~~~~~~~~~~\n",
            "Original Texts:\n",
            "place blue by j one again\n",
            "bin green in g six now\n",
            "~~~~~~~~~~~~~~~~~~~~~~~~~~~~~~~~~~~~~~~~~~~~~~~~~~~~~~~~~~~~~~~~~~~~~~~~~~~~~~~~~~~~~~~~~~~~~~~~~~~~\n",
            "Predicted Texts:\n",
            "place blue by j one again\n",
            "bin green in g six now\n"
          ]
        }
      ]
    },
    {
      "cell_type": "markdown",
      "source": [
        "# Evaluation\n",
        "\n",
        "---\n",
        "\n"
      ],
      "metadata": {
        "id": "fh9f4Cp1Mksh"
      }
    },
    {
      "cell_type": "markdown",
      "source": [
        "## Define Decoding Helper"
      ],
      "metadata": {
        "id": "9s3EFaNCblSm"
      }
    },
    {
      "cell_type": "code",
      "source": [
        "# Convert sequence of integers to readable characters (ignore padding)\n",
        "def decode_seq(seq):\n",
        "    return [num_to_char(c).numpy().decode('utf-8') for c in seq if c != 0]"
      ],
      "metadata": {
        "id": "zJdYQYETn38d"
      },
      "execution_count": null,
      "outputs": []
    },
    {
      "cell_type": "markdown",
      "source": [
        "## Collect Classification Report from Model Predictions"
      ],
      "metadata": {
        "id": "cxmdsulqb79Z"
      }
    },
    {
      "cell_type": "code",
      "source": [
        "from sklearn.metrics import classification_report\n",
        "\n",
        "# Initialize empty lists to store all true and predicted characters\n",
        "y_true_chars = []\n",
        "y_pred_chars = []\n",
        "\n",
        "# Iterate through the first 10 batches of the test dataset\n",
        "for i, batch in enumerate(test.take(10)):\n",
        "    videos, labels = batch  # Unpack the batch into videos and their true labels\n",
        "\n",
        "    # Run inference on the batch using the trained model\n",
        "    yhat = model.predict(videos)\n",
        "\n",
        "    # Decode the model's predictions using CTC decoding (greedy strategy)\n",
        "    decoded = tf.keras.backend.ctc_decode(\n",
        "        yhat,\n",
        "        input_length=[yhat.shape[1]] * yhat.shape[0],\n",
        "        greedy=True  # Use greedy decoding instead of beam search\n",
        "    )[0][0].numpy()\n",
        "\n",
        "    # Decode and align true and predicted character sequences\n",
        "    for true_seq, pred_seq in zip(labels.numpy(), decoded):\n",
        "        true_dec = decode_seq(true_seq)\n",
        "        pred_dec = decode_seq(pred_seq)\n",
        "\n",
        "        # Truncate both to the same length to compare only aligned parts\n",
        "        min_len = min(len(true_dec), len(pred_dec))\n",
        "\n",
        "        # Add the aligned true and predicted characters to their respective lists\n",
        "        y_true_chars.extend(true_dec[:min_len])\n",
        "        y_pred_chars.extend(pred_dec[:min_len])\n",
        "\n",
        "# Print a detailed classification report comparing predicted vs true characters\n",
        "print(classification_report(\n",
        "    y_true_chars,\n",
        "    y_pred_chars,\n",
        "    digits=4,\n",
        "    zero_division=0\n",
        "))"
      ],
      "metadata": {
        "colab": {
          "base_uri": "https://localhost:8080/"
        },
        "id": "yMNHbPGsMkhO",
        "outputId": "6ea8fa77-7978-4821-d0a5-7957df224a7f"
      },
      "execution_count": 25,
      "outputs": [
        {
          "output_type": "stream",
          "name": "stdout",
          "text": [
            "\u001b[1m1/1\u001b[0m \u001b[32m━━━━━━━━━━━━━━━━━━━━\u001b[0m\u001b[37m\u001b[0m \u001b[1m0s\u001b[0m 315ms/step\n",
            "\u001b[1m1/1\u001b[0m \u001b[32m━━━━━━━━━━━━━━━━━━━━\u001b[0m\u001b[37m\u001b[0m \u001b[1m0s\u001b[0m 233ms/step\n",
            "\u001b[1m1/1\u001b[0m \u001b[32m━━━━━━━━━━━━━━━━━━━━\u001b[0m\u001b[37m\u001b[0m \u001b[1m0s\u001b[0m 237ms/step\n",
            "\u001b[1m1/1\u001b[0m \u001b[32m━━━━━━━━━━━━━━━━━━━━\u001b[0m\u001b[37m\u001b[0m \u001b[1m0s\u001b[0m 235ms/step\n",
            "\u001b[1m1/1\u001b[0m \u001b[32m━━━━━━━━━━━━━━━━━━━━\u001b[0m\u001b[37m\u001b[0m \u001b[1m0s\u001b[0m 232ms/step\n",
            "\u001b[1m1/1\u001b[0m \u001b[32m━━━━━━━━━━━━━━━━━━━━\u001b[0m\u001b[37m\u001b[0m \u001b[1m0s\u001b[0m 231ms/step\n",
            "\u001b[1m1/1\u001b[0m \u001b[32m━━━━━━━━━━━━━━━━━━━━\u001b[0m\u001b[37m\u001b[0m \u001b[1m0s\u001b[0m 228ms/step\n",
            "\u001b[1m1/1\u001b[0m \u001b[32m━━━━━━━━━━━━━━━━━━━━\u001b[0m\u001b[37m\u001b[0m \u001b[1m0s\u001b[0m 257ms/step\n",
            "\u001b[1m1/1\u001b[0m \u001b[32m━━━━━━━━━━━━━━━━━━━━\u001b[0m\u001b[37m\u001b[0m \u001b[1m0s\u001b[0m 237ms/step\n",
            "\u001b[1m1/1\u001b[0m \u001b[32m━━━━━━━━━━━━━━━━━━━━\u001b[0m\u001b[37m\u001b[0m \u001b[1m0s\u001b[0m 233ms/step\n",
            "              precision    recall  f1-score   support\n",
            "\n",
            "                 0.0000    0.0000    0.0000         0\n",
            "                 0.9700    0.9700    0.9700       100\n",
            "           a     1.0000    1.0000    1.0000        31\n",
            "           b     1.0000    1.0000    1.0000        15\n",
            "           c     1.0000    1.0000    1.0000         6\n",
            "           d     1.0000    1.0000    1.0000         8\n",
            "           e     0.9688    0.9841    0.9764        63\n",
            "           f     1.0000    1.0000    1.0000         3\n",
            "           g     1.0000    1.0000    1.0000        16\n",
            "           h     1.0000    1.0000    1.0000        16\n",
            "           i     1.0000    1.0000    1.0000        32\n",
            "           j     1.0000    1.0000    1.0000         1\n",
            "           k     1.0000    1.0000    1.0000         1\n",
            "           l     1.0000    1.0000    1.0000        18\n",
            "           m     1.0000    1.0000    1.0000         1\n",
            "           n     0.9773    0.9348    0.9556        46\n",
            "           o     0.8966    0.8966    0.8966        29\n",
            "           p     1.0000    1.0000    1.0000        11\n",
            "           r     1.0000    1.0000    1.0000        20\n",
            "           s     0.8125    0.8125    0.8125        16\n",
            "           t     1.0000    1.0000    1.0000        25\n",
            "           u     1.0000    1.0000    1.0000         8\n",
            "           v     1.0000    1.0000    1.0000         4\n",
            "           w     1.0000    1.0000    1.0000        16\n",
            "           x     1.0000    1.0000    1.0000         1\n",
            "           y     1.0000    1.0000    1.0000         7\n",
            "           z     1.0000    1.0000    1.0000         2\n",
            "\n",
            "    accuracy                         0.9738       496\n",
            "   macro avg     0.9491    0.9481    0.9486       496\n",
            "weighted avg     0.9758    0.9738    0.9747       496\n",
            "\n"
          ]
        }
      ]
    },
    {
      "cell_type": "markdown",
      "source": [
        "## Plot Loss and Accuracy from Training History"
      ],
      "metadata": {
        "id": "YXFZ63WwNfQ0"
      }
    },
    {
      "cell_type": "code",
      "source": [
        "# Set global font to Serif\n",
        "plt.rcParams['font.family'] = 'serif'\n",
        "\n",
        "hist = history.history\n",
        "\n",
        "# Define epoch range\n",
        "epochs = range(1, len(hist['loss']) + 1)\n",
        "\n",
        "# Plot CTC loss using history object\n",
        "plt.plot(epochs, hist['loss'], 'r-', label='Train Loss')\n",
        "if 'val_loss' in hist:\n",
        "    plt.plot(epochs, hist['val_loss'], 'b--', label='Validation Loss')\n",
        "plt.title('CTC Loss Over Epochs')\n",
        "plt.xlabel('Epoch')\n",
        "plt.ylabel('Loss')\n",
        "# plt.grid(True)\n",
        "plt.legend()\n",
        "plt.show()\n",
        "\n",
        "# Plot char accuracy from callback\n",
        "plt.plot(range(1, len(acc_callback.accuracy_per_epoch)+1),\n",
        "         acc_callback.accuracy_per_epoch, 'c-', label='Char Accuracy')\n",
        "plt.title('Character-Level Accuracy Over Epochs')\n",
        "plt.xlabel('Epoch')\n",
        "plt.ylabel('Accuracy')\n",
        "# plt.grid(True)\n",
        "plt.legend()\n",
        "plt.show()"
      ],
      "metadata": {
        "colab": {
          "base_uri": "https://localhost:8080/",
          "height": 955
        },
        "id": "pSZOSfTFnsyk",
        "outputId": "d9d33a0d-f248-473b-a571-77dee242a704"
      },
      "execution_count": 26,
      "outputs": [
        {
          "output_type": "display_data",
          "data": {
            "text/plain": [
              "<Figure size 1000x500 with 1 Axes>"
            ],
            "image/png": "[encoded data removed]"
          },
          "metadata": {}
        },
        {
          "output_type": "display_data",
          "data": {
            "text/plain": [
              "<Figure size 1000x500 with 1 Axes>"
            ],
            "image/png": "[encoded data removed]"
          },
          "metadata": {}
        }
      ]
    },
    {
      "cell_type": "markdown",
      "source": [
        "## Plot Character-Level Confusion Matrix"
      ],
      "metadata": {
        "id": "xvrQUaqudxr3"
      }
    },
    {
      "cell_type": "code",
      "source": [
        "import seaborn as sns\n",
        "from sklearn.metrics import confusion_matrix\n",
        "\n",
        "# Use serif font globally\n",
        "plt.rcParams['font.family'] = 'serif'\n",
        "\n",
        "# Create confusion matrix from true vs predicted characters\n",
        "unique_labels = sorted(set(y_true_chars + y_pred_chars))\n",
        "cm = confusion_matrix(y_true_chars, y_pred_chars, labels=unique_labels)\n",
        "\n",
        "# Plot heatmap\n",
        "plt.figure(figsize=(10, 8))\n",
        "sns.heatmap(\n",
        "    cm,\n",
        "    annot=True,\n",
        "    fmt='d',\n",
        "    xticklabels=unique_labels,\n",
        "    yticklabels=unique_labels,\n",
        "    cmap='RdPu'\n",
        ")\n",
        "plt.title('Character-Level Confusion Matrix')\n",
        "plt.xlabel('Predicted')\n",
        "plt.ylabel('True')\n",
        "plt.show()"
      ],
      "metadata": {
        "colab": {
          "base_uri": "https://localhost:8080/",
          "height": 717
        },
        "id": "5f3boACZO3oz",
        "outputId": "8572a026-1861-4212-ee0d-2adf559ac7fd"
      },
      "execution_count": 27,
      "outputs": [
        {
          "output_type": "display_data",
          "data": {
            "text/plain": [
              "<Figure size 1000x800 with 2 Axes>"
            ],
            "image/png": "[encoded data removed]"
          },
          "metadata": {}
        }
      ]
    },
    {
      "cell_type": "markdown",
      "source": [
        "## Print Character-Level Metrics"
      ],
      "metadata": {
        "id": "Evrlc6LugSdV"
      }
    },
    {
      "cell_type": "code",
      "source": [
        "from sklearn.metrics import accuracy_score, precision_score, recall_score, f1_score\n",
        "\n",
        "# Compute and print key character-level metrics\n",
        "char_acc   = accuracy_score(y_true_chars, y_pred_chars)\n",
        "char_prec  = precision_score(y_true_chars, y_pred_chars, average='macro', zero_division=0)\n",
        "char_rec   = recall_score(y_true_chars, y_pred_chars, average='macro', zero_division=0)\n",
        "char_f1    = f1_score(y_true_chars, y_pred_chars, average='macro', zero_division=0)\n",
        "\n",
        "print(f\"Character-Level Accuracy:  {char_acc:.4f}\")\n",
        "print(f\"Character-Level Precision: {char_prec:.4f}\")\n",
        "print(f\"Character-Level Recall:    {char_rec:.4f}\")\n",
        "print(f\"Character-Level F1 Score:  {char_f1:.4f}\")"
      ],
      "metadata": {
        "id": "vZQXYgqMgYOn",
        "colab": {
          "base_uri": "https://localhost:8080/"
        },
        "outputId": "1050f228-49e5-4c6a-8bad-e474f25adfa0"
      },
      "execution_count": 28,
      "outputs": [
        {
          "output_type": "stream",
          "name": "stdout",
          "text": [
            "Character-Level Accuracy:  0.9738\n",
            "Character-Level Precision: 0.9491\n",
            "Character-Level Recall:    0.9481\n",
            "Character-Level F1 Score:  0.9486\n"
          ]
        }
      ]
    },
    {
      "cell_type": "markdown",
      "source": [
        "# View a Clean Table Summary of Convolutional Layers"
      ],
      "metadata": {
        "id": "8tnSgzvEgjbd"
      }
    },
    {
      "cell_type": "code",
      "source": [
        "import pandas as pd\n",
        "\n",
        "# Build a summary DataFrame for each layer of the model\n",
        "def get_all_layers_table(model):\n",
        "    data = []\n",
        "\n",
        "    for layer in model.layers:\n",
        "        config = layer.get_config()\n",
        "        name = layer.name\n",
        "        layer_type = layer.__class__.__name__\n",
        "\n",
        "        # Safe access to output shape\n",
        "        try:\n",
        "            output_shape = layer.output.shape\n",
        "        except:\n",
        "            output_shape = '-'\n",
        "\n",
        "        # Gather layer-specific parameters\n",
        "        kernel_size = config.get('kernel_size', '-')\n",
        "        filters = config.get('filters', config.get('units', '-'))\n",
        "        strides = config.get('strides', '-')\n",
        "        dropout_rate = getattr(layer, 'rate', '-') if layer_type == 'Dropout' else '-'\n",
        "\n",
        "        data.append([\n",
        "            name, layer_type, kernel_size, filters, strides, dropout_rate, output_shape\n",
        "        ])\n",
        "\n",
        "    return pd.DataFrame(data, columns=[\n",
        "        \"Layer Name\", \"Layer Type\", \"Kernel Size\", \"Filters / Units\", \"Stride\", \"Dropout Rate\", \"Output Shape\"\n",
        "    ])\n",
        "\n",
        "# Display the table\n",
        "layer_table = get_all_layers_table(model)\n",
        "print(layer_table.to_string())"
      ],
      "metadata": {
        "id": "8cSF2onsglAs",
        "colab": {
          "base_uri": "https://localhost:8080/"
        },
        "outputId": "5f179933-0e19-4060-fb9d-fbd51a8c9e4d"
      },
      "execution_count": 29,
      "outputs": [
        {
          "output_type": "stream",
          "name": "stdout",
          "text": [
            "          Layer Name       Layer Type Kernel Size Filters / Units     Stride Dropout Rate              Output Shape\n",
            "0             conv3d           Conv3D   (3, 3, 3)             128  (1, 1, 1)            -  (None, 75, 46, 140, 128)\n",
            "1         activation       Activation           -               -          -            -  (None, 75, 46, 140, 128)\n",
            "2      max_pooling3d     MaxPooling3D           -               -  (1, 2, 2)            -   (None, 75, 23, 70, 128)\n",
            "3           conv3d_1           Conv3D   (3, 3, 3)             256  (1, 1, 1)            -   (None, 75, 23, 70, 256)\n",
            "4       activation_1       Activation           -               -          -            -   (None, 75, 23, 70, 256)\n",
            "5    max_pooling3d_1     MaxPooling3D           -               -  (1, 2, 2)            -   (None, 75, 11, 35, 256)\n",
            "6           conv3d_2           Conv3D   (3, 3, 3)              75  (1, 1, 1)            -    (None, 75, 11, 35, 75)\n",
            "7       activation_2       Activation           -               -          -            -    (None, 75, 11, 35, 75)\n",
            "8    max_pooling3d_2     MaxPooling3D           -               -  (1, 2, 2)            -     (None, 75, 5, 17, 75)\n",
            "9   time_distributed  TimeDistributed           -               -          -            -          (None, 75, 6375)\n",
            "10     bidirectional    Bidirectional           -               -          -            -           (None, 75, 256)\n",
            "11           dropout          Dropout           -               -          -          0.5           (None, 75, 256)\n",
            "12   bidirectional_1    Bidirectional           -               -          -            -           (None, 75, 256)\n",
            "13         dropout_1          Dropout           -               -          -          0.5           (None, 75, 256)\n",
            "14             dense            Dense           -              41          -            -            (None, 75, 41)\n"
          ]
        }
      ]
    }
  ]
}